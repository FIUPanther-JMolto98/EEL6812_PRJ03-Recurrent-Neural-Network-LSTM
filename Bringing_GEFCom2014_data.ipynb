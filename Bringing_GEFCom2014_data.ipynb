{
  "cells": [
    {
      "cell_type": "markdown",
      "metadata": {
        "id": "JKZguk6OiiQq"
      },
      "source": [
        "# Retrieving the  GEFCom2014 (E, V2) Data\n",
        "\n",
        "The data in this project is taken from the GEFCom2014 forecasting competition. It consists of hourly electricity load (\"eload\") and temperature (\"tempf\") values for a USA city. \n",
        "The data will be brought into the Colab session from an internet repository, aand the extracted Ecel file will be used to create a comma-seprated-value (csv) text file, similar to the one in Chapter 10 of te textbook."
      ]
    },
    {
      "cell_type": "code",
      "execution_count": null,
      "metadata": {
        "id": "6QNEjWp4iiQu",
        "jupyter": {
          "outputs_hidden": true
        },
        "nteract": {
          "transient": {
            "deleting": false
          }
        },
        "outputExpanded": false
      },
      "outputs": [],
      "source": [
        "import numpy as np \n",
        "import pandas as pd\n",
        "import os\n",
        "import shutil\n",
        "import matplotlib.pyplot as plt\n",
        "# from common.utils import load_data, extract_data, download_file\n",
        "%matplotlib inline\n",
        "\n",
        "# !wget https://mlftsfwp.blob.core.windows.net/mlftsfwp/GEFCom2014.zip\n",
        "!wget https://www.dropbox.com/s/pqenrr2mcvl0hk9/GEFCom2014.zip\n",
        "\n"
      ]
    },
    {
      "cell_type": "code",
      "execution_count": null,
      "metadata": {
        "colab": {
          "base_uri": "https://localhost:8080/"
        },
        "id": "hGs_D6GelaHB",
        "outputId": "9901b1d1-a6c0-4f03-c8a7-db835d841c8d"
      },
      "outputs": [
        {
          "name": "stdout",
          "output_type": "stream",
          "text": [
            "Archive:  GEFCom2014.zip\n",
            "replace GEFCom2014 Data/GEFCom2014-S_V2.zip? [y]es, [n]o, [A]ll, [N]one, [r]ename: A\n",
            " extracting: GEFCom2014 Data/GEFCom2014-S_V2.zip  \n",
            " extracting: GEFCom2014 Data/GEFCom2014-W_V2.zip  \n",
            "  inflating: GEFCom2014 Data/READ ME_V2.txt  \n",
            "  inflating: GEFCom2014 Data/Provisional_Leaderboard_V2.xlsx  \n",
            " extracting: GEFCom2014 Data/GEFCom2014-L_V2.zip  \n",
            " extracting: GEFCom2014 Data/GEFCom2014-E_V2.zip  \n",
            " extracting: GEFCom2014 Data/GEFCom2014-P_V2.zip  \n"
          ]
        }
      ],
      "source": [
        "# !ls -l \n",
        "!unzip GEFCom2014.zip"
      ]
    },
    {
      "cell_type": "code",
      "execution_count": null,
      "metadata": {
        "colab": {
          "base_uri": "https://localhost:8080/"
        },
        "id": "23EATWkn2RSR",
        "outputId": "65e6314e-3f3e-4f2e-ad6c-6b71aaffa9ca"
      },
      "outputs": [
        {
          "name": "stdout",
          "output_type": "stream",
          "text": [
            "total 376488\n",
            "-rw-r--r-- 1 root root     37912 Apr 19 06:21  ELOAD_lstm.keras\n",
            "-rw-r--r-- 1 root root   1573348 Apr 19 06:38  GEF14.csv\n",
            "drwxrwxr-x 2 root root      4096 Apr 19 06:41 'GEFCom2014 Data'\n",
            "-rw-rw-r-- 1 root root   2348089 Feb 11  2016  GEFCom2014-E_V2.zip\n",
            "-rw-r--r-- 1 root root   2452214 Jan 25  2016  GEFCom2014-E.xlsx\n",
            "-rw-r--r-- 1 root root 126360077 Aug 11  2020  GEFCom2014.zip\n",
            "-rw-r--r-- 1 root root 126360077 Aug 11  2020  GEFCom2014.zip.1\n",
            "-rw-r--r-- 1 root root 126360077 Aug 11  2020  GEFCom2014.zip.2\n",
            "drwxr-xr-x 1 root root      4096 Apr  8 13:32  sample_data\n"
          ]
        }
      ],
      "source": [
        "!ls -l"
      ]
    },
    {
      "cell_type": "code",
      "execution_count": null,
      "metadata": {
        "colab": {
          "base_uri": "https://localhost:8080/"
        },
        "id": "gDOKGKL91-FQ",
        "outputId": "f64fbb31-577a-467c-c9c3-5e4285ce5c2d"
      },
      "outputs": [
        {
          "name": "stdout",
          "output_type": "stream",
          "text": [
            "total 123420\n",
            "-rw-rw-r-- 1 root root  2348089 Feb 11  2016  GEFCom2014-E_V2.zip\n",
            "-rw-rw-r-- 1 root root  2599214 Feb 11  2016  GEFCom2014-L_V2.zip\n",
            "-rw-rw-r-- 1 root root  3338992 Feb 11  2016  GEFCom2014-P_V2.zip\n",
            "-rw-rw-r-- 1 root root 36734790 Feb 11  2016  GEFCom2014-S_V2.zip\n",
            "-rw-rw-r-- 1 root root 81149634 Feb 11  2016  GEFCom2014-W_V2.zip\n",
            "-rw-rw-r-- 1 root root   195932 Feb 11  2016  Provisional_Leaderboard_V2.xlsx\n",
            "-rw-rw-r-- 1 root root      389 Feb 11  2016 'READ ME_V2.txt'\n"
          ]
        }
      ],
      "source": [
        "!ls -l 'GEFCom2014 Data'/"
      ]
    },
    {
      "cell_type": "markdown",
      "metadata": {
        "id": "eWY9eUUQSu-K"
      },
      "source": [
        "# We are interested in GEFCom2014-E_V2.zip"
      ]
    },
    {
      "cell_type": "code",
      "execution_count": null,
      "metadata": {
        "id": "BuAtuOTA21N4"
      },
      "outputs": [],
      "source": [
        "# Let's bring it to the top level before unzipping it\n",
        "!mv  'GEFCom2014 Data'/GEFCom2014-E_V2.zip  ./"
      ]
    },
    {
      "cell_type": "code",
      "execution_count": null,
      "metadata": {
        "colab": {
          "base_uri": "https://localhost:8080/"
        },
        "id": "Vdas6cAJ1094",
        "outputId": "e7e6fa58-a5bc-4281-ed7a-1c9cdff327dd"
      },
      "outputs": [
        {
          "name": "stdout",
          "output_type": "stream",
          "text": [
            "Archive:  GEFCom2014-E_V2.zip\n",
            "replace GEFCom2014-E.xlsx? [y]es, [n]o, [A]ll, [N]one, [r]ename: A\n",
            "  inflating: GEFCom2014-E.xlsx       \n"
          ]
        }
      ],
      "source": [
        "!unzip GEFCom2014-E_V2.zip"
      ]
    },
    {
      "cell_type": "code",
      "execution_count": null,
      "metadata": {
        "colab": {
          "base_uri": "https://localhost:8080/"
        },
        "id": "PEhJVlpe10lB",
        "outputId": "affa5873-675b-47db-f09e-5b9acde9d9a1"
      },
      "outputs": [
        {
          "name": "stdout",
          "output_type": "stream",
          "text": [
            "total 376488\n",
            "-rw-r--r-- 1 root root     37912 Apr 19 06:21  ELOAD_lstm.keras\n",
            "-rw-r--r-- 1 root root   1573348 Apr 19 06:38  GEF14.csv\n",
            "drwxrwxr-x 2 root root      4096 Apr 19 06:41 'GEFCom2014 Data'\n",
            "-rw-rw-r-- 1 root root   2348089 Feb 11  2016  GEFCom2014-E_V2.zip\n",
            "-rw-r--r-- 1 root root   2452214 Jan 25  2016  GEFCom2014-E.xlsx\n",
            "-rw-r--r-- 1 root root 126360077 Aug 11  2020  GEFCom2014.zip\n",
            "-rw-r--r-- 1 root root 126360077 Aug 11  2020  GEFCom2014.zip.1\n",
            "-rw-r--r-- 1 root root 126360077 Aug 11  2020  GEFCom2014.zip.2\n",
            "drwxr-xr-x 1 root root      4096 Apr  8 13:32  sample_data\n"
          ]
        }
      ],
      "source": [
        "# We can now verify that we hot the file GEFCom2014-E.xlsx\n",
        "!ls -l"
      ]
    },
    {
      "cell_type": "markdown",
      "metadata": {
        "id": "z9XUk2iATKLS"
      },
      "source": [
        "***We have GEFCom2014-E.xlsx***"
      ]
    },
    {
      "cell_type": "markdown",
      "metadata": {
        "id": "Fn2AuDsr8f_u"
      },
      "source": [
        "This script will \"translate\" the .xlsx file to a .cvs file, so that the initial situation is the same as for the Jena temperature example from Chapter 10 of textbook - IN THIS PROCESS WE WILL ALSO REMOVE THE MLTIPLE INITIAL LINES THAT DO NOT HAVE LOAD VALUES (this is done through the \"skip_rows\" parameter)"
      ]
    },
    {
      "cell_type": "code",
      "execution_count": null,
      "metadata": {
        "id": "tbmtWFA25-PK"
      },
      "outputs": [],
      "source": [
        "# CONVERT GEFCom2014-E.xlsx to a PANDAS DATAFRAME called GEFDF\n",
        "# import pandas as pd\n",
        "\n",
        "GEFDF = pd.read_excel('GEFCom2014-E.xlsx', skiprows=range(1, 17545), dtype = {'A':np.int32  ,'B':np.int8   ,'C':np.int32  ,'D':np.float64}, index_col = None )\n"
      ]
    },
    {
      "cell_type": "code",
      "execution_count": null,
      "metadata": {
        "colab": {
          "base_uri": "https://localhost:8080/"
        },
        "id": "7YJoZMmsUkER",
        "outputId": "64be70f4-f773-4e6a-93e1-273c3209d5fd"
      },
      "outputs": [
        {
          "name": "stdout",
          "output_type": "stream",
          "text": [
            "            Date  Hour    load          T\n",
            "0     2006-01-01     1  3010.0  22.666667\n",
            "1     2006-01-01     2  2853.0  20.666667\n",
            "2     2006-01-01     3  2758.0  21.333333\n",
            "3     2006-01-01     4  2705.0  19.000000\n",
            "4     2006-01-01     5  2709.0  19.333333\n",
            "...          ...   ...     ...        ...\n",
            "78883 2014-12-31    20  4012.0  18.000000\n",
            "78884 2014-12-31    21  3856.0  16.666667\n",
            "78885 2014-12-31    22  3671.0  17.000000\n",
            "78886 2014-12-31    23  3499.0  15.333333\n",
            "78887 2014-12-31    24  3345.0  15.333333\n",
            "\n",
            "[78888 rows x 4 columns]\n"
          ]
        }
      ],
      "source": [
        "# We can \"see\" the Pandas DataFrame (called GEFDF) that has been obtained\n",
        "print(GEFDF)"
      ]
    },
    {
      "cell_type": "code",
      "execution_count": null,
      "metadata": {
        "id": "Y6YK-qjnrZ37"
      },
      "outputs": [],
      "source": [
        "# Now writing out the GEFDF dataframe to a text (csv) file\n",
        "GEFDF.to_csv('GEF14.csv',  encoding='utf-8', index=False, header=True, columns=['Hour','load','T'],line_terminator='\\n' )\n",
        "with open('GEF14.csv') as f:\n",
        "    lines = f.readlines()\n",
        "    last = len(lines) - 1\n",
        "    lines[last] = lines[last].replace('\\r','').replace('\\n','')\n",
        "with open('GEF14.csv', 'w') as wr:\n",
        "    wr.writelines(lines)"
      ]
    },
    {
      "cell_type": "code",
      "execution_count": null,
      "metadata": {
        "colab": {
          "base_uri": "https://localhost:8080/"
        },
        "id": "hIdtesaR8Kh-",
        "outputId": "ede6e7a5-0977-47c1-eeb3-331265dcd9fc"
      },
      "outputs": [
        {
          "name": "stdout",
          "output_type": "stream",
          "text": [
            "total 376488\n",
            "-rw-r--r-- 1 root root     37912 Apr 19 06:21  ELOAD_lstm.keras\n",
            "-rw-r--r-- 1 root root   1573348 Apr 19 06:41  GEF14.csv\n",
            "drwxrwxr-x 2 root root      4096 Apr 19 06:41 'GEFCom2014 Data'\n",
            "-rw-rw-r-- 1 root root   2348089 Feb 11  2016  GEFCom2014-E_V2.zip\n",
            "-rw-r--r-- 1 root root   2452214 Jan 25  2016  GEFCom2014-E.xlsx\n",
            "-rw-r--r-- 1 root root 126360077 Aug 11  2020  GEFCom2014.zip\n",
            "-rw-r--r-- 1 root root 126360077 Aug 11  2020  GEFCom2014.zip.1\n",
            "-rw-r--r-- 1 root root 126360077 Aug 11  2020  GEFCom2014.zip.2\n",
            "drwxr-xr-x 1 root root      4096 Apr  8 13:32  sample_data\n"
          ]
        }
      ],
      "source": [
        "# verifying we have created the csv file GEF14.csv\n",
        "!ls -l ./"
      ]
    },
    {
      "cell_type": "markdown",
      "metadata": {
        "id": "us1hUlHQ9bWu"
      },
      "source": [
        "From this point onwards, the preparation is similar as for the Jena temperature prediction case from the book but the columns in this file are just:"
      ]
    },
    {
      "cell_type": "markdown",
      "metadata": {
        "id": "DWJo3EwS9o2o"
      },
      "source": [
        "hour( 1 to 24) ; LOAD (e.g., 4012.0 ) ; TEMP (in oF ,  e.g., 86.5)"
      ]
    },
    {
      "cell_type": "markdown",
      "metadata": {
        "id": "hdqxITW013z4"
      },
      "source": [
        "**Inspecting the data of the GEFC14.csv FILE**"
      ]
    },
    {
      "cell_type": "markdown",
      "metadata": {
        "id": "b_ruVaOML0nP"
      },
      "source": [
        "This will separate the heade from the rest, whicj will be kept in \"lines\""
      ]
    },
    {
      "cell_type": "code",
      "execution_count": null,
      "metadata": {
        "colab": {
          "base_uri": "https://localhost:8080/"
        },
        "id": "IrhuNXiv13z4",
        "outputId": "2b3204d0-fa84-4831-ae8d-8e33ddaaa0d0"
      },
      "outputs": [
        {
          "name": "stdout",
          "output_type": "stream",
          "text": [
            "['Hour', 'load', 'T']\n",
            "78888\n"
          ]
        }
      ],
      "source": [
        "# THIS CODE CELL IS ESSENTIALLY THE SAME AS IN THE EXAMPLE FROM CH. 10 IN BOOK\n",
        "import os\n",
        "fname = os.path.join(\"GEF14.csv\")\n",
        "\n",
        "with open(fname) as f:\n",
        "    data = f.read()\n",
        "\n",
        "lines = data.split(\"\\n\")\n",
        "header = lines[0].split(\",\")\n",
        "lines = lines[1:]\n",
        "print(header)\n",
        "print(len(lines))"
      ]
    },
    {
      "cell_type": "markdown",
      "metadata": {
        "id": "vIuGahi713z5"
      },
      "source": [
        "**Parsing the data**"
      ]
    },
    {
      "cell_type": "markdown",
      "metadata": {
        "id": "I0q6uLMwMA--"
      },
      "source": [
        "We will separate temperatures in tempf, loads in eload and both in raw_data (Hour will be ignored) "
      ]
    },
    {
      "cell_type": "code",
      "execution_count": null,
      "metadata": {
        "colab": {
          "base_uri": "https://localhost:8080/"
        },
        "id": "4i3MFge813z6",
        "outputId": "70939dc1-ffcd-48fb-8f3c-147653554904"
      },
      "outputs": [
        {
          "name": "stdout",
          "output_type": "stream",
          "text": [
            "78888\n"
          ]
        }
      ],
      "source": [
        "# VERY SIMILAR TO THE CORRESPONDING C0DE CELL FROM CHAPTER 10 IN BOOK\n",
        "# eload (electric load) is the timeseries we will predict\n",
        "# tempf (temperature in Fahrenheit) is the temperature at the same time\n",
        "# import numpy as np\n",
        "eload = np.zeros((len(lines),))\n",
        "tempf = np.zeros((len(lines),))\n",
        "raw_data = np.zeros((len(lines), len(header)-2))   #chgd )-1  to )-2 to also\n",
        "# remove the HOUR column, in addition to the DATE column\n",
        "print(len(lines))\n",
        "\n",
        "for m in range(78888):\n",
        "    thisline  = lines[m]\n",
        "    values = [float(x) for x in thisline.split(\",\")[1:]]\n",
        "    eload[m] = values[0]         #Captures JUST E LOAD\n",
        "    tempf[m] = values[1]            #Captures JUST TEMPF\n",
        "    raw_data[m] = values[0]         #Like this, raw_data Captures JUST E LOAD\n",
        "    # raw_data[m, :] = values[:]   # Like this, raw_data CAPTURES BOTH"
      ]
    },
    {
      "cell_type": "markdown",
      "metadata": {
        "id": "7-5-eLAr13z6"
      },
      "source": [
        "**Plotting the eload timeseries**"
      ]
    },
    {
      "cell_type": "code",
      "execution_count": null,
      "metadata": {
        "colab": {
          "base_uri": "https://localhost:8080/",
          "height": 283
        },
        "id": "HghihQjm13z6",
        "outputId": "e2173604-51a5-4b02-8113-0949a8644867"
      },
      "outputs": [
        {
          "data": {
            "text/plain": [
              "[<matplotlib.lines.Line2D at 0x7fe936763950>]"
            ]
          },
          "execution_count": 14,
          "metadata": {},
          "output_type": "execute_result"
        },
        {
          "data": {
            "image/png": "[encoded data removed]",
            "text/plain": [
              "<Figure size 432x288 with 1 Axes>"
            ]
          },
          "metadata": {
            "needs_background": "light"
          },
          "output_type": "display_data"
        }
      ],
      "source": [
        "from matplotlib import pyplot as plt\n",
        "plt.plot(range(len(eload)), eload)"
      ]
    },
    {
      "cell_type": "code",
      "execution_count": null,
      "metadata": {
        "colab": {
          "base_uri": "https://localhost:8080/",
          "height": 283
        },
        "id": "6N_QbQ5v6vfD",
        "outputId": "2e31a2c8-e863-4518-fc3d-ee274e29dad3"
      },
      "outputs": [
        {
          "data": {
            "text/plain": [
              "[<matplotlib.lines.Line2D at 0x7fe9367e5250>]"
            ]
          },
          "execution_count": 15,
          "metadata": {},
          "output_type": "execute_result"
        },
        {
          "data": {
            "image/png": "[encoded data removed]",
            "text/plain": [
              "<Figure size 432x288 with 1 Axes>"
            ]
          },
          "metadata": {
            "needs_background": "light"
          },
          "output_type": "display_data"
        }
      ],
      "source": [
        "plt.plot(range(len(tempf)), tempf)"
      ]
    },
    {
      "cell_type": "markdown",
      "metadata": {
        "id": "KQ759qZa_rrD"
      },
      "source": [
        "**THIS IS THE BEGINNING OF THE ACTUAL SOLUTION**"
      ]
    },
    {
      "cell_type": "markdown",
      "metadata": {
        "id": "CXgz-HWg13z7"
      },
      "source": [
        "**Computing the number of samples we'll use for each data split**"
      ]
    },
    {
      "cell_type": "code",
      "execution_count": null,
      "metadata": {
        "colab": {
          "base_uri": "https://localhost:8080/"
        },
        "id": "Kt1MTQWNAJIa",
        "outputId": "e8b392d7-6384-4091-afdb-4204a0a73d16"
      },
      "outputs": [
        {
          "name": "stdout",
          "output_type": "stream",
          "text": [
            "num_train_samples: 39444\n",
            "num_val_samples: 19722\n",
            "num_test_samples: 19722\n"
          ]
        }
      ],
      "source": [
        "num_train_samples = int(0.5 * len(raw_data))\n",
        "num_val_samples = int(0.25 * len(raw_data))\n",
        "num_test_samples = len(raw_data) - num_train_samples - num_val_samples\n",
        "print(\"num_train_samples:\", num_train_samples)\n",
        "print(\"num_val_samples:\", num_val_samples)\n",
        "print(\"num_test_samples:\", num_test_samples)"
      ]
    },
    {
      "cell_type": "markdown",
      "metadata": {
        "id": "XJzh0onC13z8"
      },
      "source": [
        "### Preparing the data"
      ]
    },
    {
      "cell_type": "code",
      "execution_count": null,
      "metadata": {
        "colab": {
          "base_uri": "https://localhost:8080/",
          "height": 286
        },
        "id": "jmeBA4Vd6b1P",
        "outputId": "522ec381-6983-4068-c9c1-983b8f885b18"
      },
      "outputs": [
        {
          "data": {
            "text/plain": [
              "[<matplotlib.lines.Line2D at 0x7fe936601190>]"
            ]
          },
          "execution_count": 17,
          "metadata": {},
          "output_type": "execute_result"
        },
        {
          "data": {
            "image/png": "[encoded data removed]",
            "text/plain": [
              "<Figure size 432x288 with 1 Axes>"
            ]
          },
          "metadata": {
            "needs_background": "light"
          },
          "output_type": "display_data"
        }
      ],
      "source": [
        "# Display the ELOAD for the first 10 days\n",
        "plt.plot(range(240),eload[:240])"
      ]
    },
    {
      "cell_type": "code",
      "execution_count": null,
      "metadata": {
        "colab": {
          "base_uri": "https://localhost:8080/",
          "height": 283
        },
        "id": "nvziEJlO6-qP",
        "outputId": "a14e6bf4-e201-4480-82f3-4a3edb1961b6"
      },
      "outputs": [
        {
          "data": {
            "text/plain": [
              "[<matplotlib.lines.Line2D at 0x7fe937bed950>]"
            ]
          },
          "execution_count": 18,
          "metadata": {},
          "output_type": "execute_result"
        },
        {
          "data": {
            "image/png": "[encoded data removed]",
            "text/plain": [
              "<Figure size 432x288 with 1 Axes>"
            ]
          },
          "metadata": {
            "needs_background": "light"
          },
          "output_type": "display_data"
        }
      ],
      "source": [
        "# Display the tempf for the first 10 days\n",
        "plt.plot(range(240),tempf[:240])"
      ]
    },
    {
      "cell_type": "markdown",
      "metadata": {
        "id": "WVa4k2Sl13z8"
      },
      "source": [
        "**Normalizing the data**"
      ]
    },
    {
      "cell_type": "code",
      "execution_count": null,
      "metadata": {
        "id": "oPd0nXLcAceU"
      },
      "outputs": [],
      "source": [
        "mean = raw_data[:num_train_samples].mean(axis=0)\n",
        "raw_data -= mean\n",
        "std = raw_data[:num_train_samples].std(axis=0)\n",
        "raw_data /= std"
      ]
    },
    {
      "cell_type": "code",
      "execution_count": null,
      "metadata": {
        "colab": {
          "base_uri": "https://localhost:8080/"
        },
        "id": "U7VBCq2qh2uZ",
        "outputId": "f6fc2cf4-b1bb-4b9c-8401-a57cba9f239a"
      },
      "outputs": [
        {
          "data": {
            "text/plain": [
              "array([3310.41855542])"
            ]
          },
          "execution_count": 20,
          "metadata": {},
          "output_type": "execute_result"
        }
      ],
      "source": [
        "mean"
      ]
    },
    {
      "cell_type": "code",
      "execution_count": null,
      "metadata": {
        "colab": {
          "base_uri": "https://localhost:8080/"
        },
        "id": "896UeHyeh73B",
        "outputId": "54bcf827-6575-4310-f3cd-4146b4f38a88"
      },
      "outputs": [
        {
          "data": {
            "text/plain": [
              "array([585.83380329])"
            ]
          },
          "execution_count": 21,
          "metadata": {},
          "output_type": "execute_result"
        }
      ],
      "source": [
        "std"
      ]
    },
    {
      "cell_type": "markdown",
      "metadata": {
        "id": "W3U1oGI313z9"
      },
      "source": [
        "**Instantiating datasets for training, validation, and testing**"
      ]
    },
    {
      "cell_type": "code",
      "execution_count": null,
      "metadata": {
        "id": "B5jOv2CDBgbe"
      },
      "outputs": [],
      "source": [
        "# LETS JUST USE ELOAD TO FORECAST ELOAD\n",
        "# THIS TIME, ( 1-input case)\n",
        "from tensorflow import keras\n",
        "\n",
        "horizon = 6       # Num. of hours ahead for forecast\n",
        "sampling_rate = 1\n",
        "sequence_length = 36\n",
        "delay = sampling_rate * (sequence_length + horizon - 1) \n",
        "batch_size = 128\n",
        "\n",
        "train_dataset = keras.utils.timeseries_dataset_from_array(\n",
        "    raw_data[:-delay],    \n",
        "    targets=raw_data[delay:], # This would used \"Normalized Targets\"\n",
        "    # targets=eload[delay:], # This would used \"Not-normalized eload targets\"\n",
        "    sampling_rate=sampling_rate,\n",
        "    sequence_length=sequence_length,\n",
        "    shuffle=True,                  #changed to false JUST FOR VERIF\n",
        "    batch_size= num_train_samples,\n",
        "    start_index=0,\n",
        "    end_index=num_train_samples)\n",
        "\n",
        "val_dataset = keras.utils.timeseries_dataset_from_array(\n",
        "    raw_data[:-delay],    # changed from raw_data to just eload not really\n",
        "    targets=raw_data[delay:],  # This would used \"Normalized Targets\"\n",
        "    # targets=eload[delay:], # This would used \"Not-normalized eload targets\"\n",
        "    sampling_rate=sampling_rate,\n",
        "    sequence_length=sequence_length,\n",
        "    shuffle=True,\n",
        "    batch_size=num_val_samples,\n",
        "    start_index=num_train_samples,\n",
        "    end_index=num_train_samples + num_val_samples)\n",
        "\n",
        "test_dataset = keras.utils.timeseries_dataset_from_array(\n",
        "    raw_data[:-delay],     # changed from raw_data to just eload\n",
        "    targets=raw_data[delay:],  # This would used \"Normalized Targets\"\n",
        "    # targets=eload[delay:], # This would used \"Not-normalized eload targets\"\n",
        "    sampling_rate=sampling_rate,\n",
        "    sequence_length=sequence_length,\n",
        "    shuffle=False,\n",
        "    batch_size=num_test_samples,\n",
        "    start_index=num_train_samples + num_val_samples)"
      ]
    },
    {
      "cell_type": "markdown",
      "metadata": {
        "id": "ZQHASx7E13z9"
      },
      "source": [
        "**Inspecting the output of one of our datasets**"
      ]
    },
    {
      "cell_type": "code",
      "execution_count": null,
      "metadata": {
        "colab": {
          "base_uri": "https://localhost:8080/"
        },
        "id": "18SMXrO3EVwS",
        "outputId": "289765a4-9946-46b1-da35-72fa66f8cf52"
      },
      "outputs": [
        {
          "name": "stdout",
          "output_type": "stream",
          "text": [
            "samples shape: (39409, 36, 1)\n",
            "targets shape: (39409, 1)\n"
          ]
        }
      ],
      "source": [
        "for samples, targets in train_dataset:\n",
        "    print(\"samples shape:\", samples.shape)\n",
        "    print(\"targets shape:\", targets.shape)\n",
        "    break"
      ]
    },
    {
      "cell_type": "code",
      "execution_count": null,
      "metadata": {
        "id": "VMGr_Bddrpwe"
      },
      "outputs": [],
      "source": [
        "# Import\n",
        "from tensorflow import keras\n",
        "from tensorflow.keras import layers\n"
      ]
    },
    {
      "cell_type": "markdown",
      "metadata": {
        "id": "OFmOkO13lFYG"
      },
      "source": [
        "**End of \" Bringing GEFCom14 DATA\"**"
      ]
    }
  ],
  "metadata": {
    "accelerator": "GPU",
    "colab": {
      "provenance": []
    },
    "kernel_info": {
      "name": "python3"
    },
    "kernelspec": {
      "display_name": "Python 3",
      "language": "python",
      "name": "python3"
    },
    "language_info": {
      "codemirror_mode": {
        "name": "ipython",
        "version": 3
      },
      "file_extension": ".py",
      "mimetype": "text/x-python",
      "name": "python",
      "nbconvert_exporter": "python",
      "pygments_lexer": "ipython3",
      "version": "3.6.9"
    },
    "nteract": {
      "version": "nteract-front-end@1.0.0"
    }
  },
  "nbformat": 4,
  "nbformat_minor": 0
}
